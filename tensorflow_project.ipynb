{
  "nbformat": 4,
  "nbformat_minor": 0,
  "metadata": {
    "colab": {
      "provenance": [],
      "toc_visible": true,
      "authorship_tag": "ABX9TyNUnN5uaWgwLe05UJNV7kKq",
      "include_colab_link": true
    },
    "kernelspec": {
      "name": "python3",
      "display_name": "Python 3"
    },
    "language_info": {
      "name": "python"
    }
  },
  "cells": [
    {
      "cell_type": "markdown",
      "metadata": {
        "id": "view-in-github",
        "colab_type": "text"
      },
      "source": [
        "<a href=\"https://colab.research.google.com/github/yanness168/wine_text_classification_neural_network/blob/main/tensorflow_project.ipynb\" target=\"_parent\"><img src=\"https://colab.research.google.com/assets/colab-badge.svg\" alt=\"Open In Colab\"/></a>"
      ]
    },
    {
      "cell_type": "code",
      "execution_count": 2,
      "metadata": {
        "id": "vyXBgIGy1jY1"
      },
      "outputs": [],
      "source": [
        "import numpy as np\n",
        "import pandas as pd\n",
        "import matplotlib.pyplot as plt\n",
        "\n",
        "import tensorflow as tf\n",
        "import tensorflow_hub as hub"
      ]
    },
    {
      "cell_type": "code",
      "source": [
        "# To extract the columns within 'usecols' only\n",
        "df_w = pd.read_csv('wine-reviews.csv', usecols= ['country', 'description', 'points', 'price', 'variety', 'winery'])"
      ],
      "metadata": {
        "id": "r_D7FM7RFXoi"
      },
      "execution_count": 5,
      "outputs": []
    },
    {
      "cell_type": "code",
      "source": [
        "df_w.head()"
      ],
      "metadata": {
        "colab": {
          "base_uri": "https://localhost:8080/",
          "height": 206
        },
        "id": "mN6t7diSOb3m",
        "outputId": "6d0f1d9f-a791-470e-c3db-9e685a6dbbeb"
      },
      "execution_count": 6,
      "outputs": [
        {
          "output_type": "execute_result",
          "data": {
            "text/plain": [
              "    country                                        description  points  price  \\\n",
              "0     Italy  Aromas include tropical fruit, broom, brimston...      87    NaN   \n",
              "1  Portugal  This is ripe and fruity, a wine that is smooth...      87   15.0   \n",
              "2        US  Tart and snappy, the flavors of lime flesh and...      87   14.0   \n",
              "3        US  Pineapple rind, lemon pith and orange blossom ...      87   13.0   \n",
              "4        US  Much like the regular bottling from 2012, this...      87   65.0   \n",
              "\n",
              "          variety               winery  \n",
              "0     White Blend              Nicosia  \n",
              "1  Portuguese Red  Quinta dos Avidagos  \n",
              "2      Pinot Gris            Rainstorm  \n",
              "3        Riesling           St. Julian  \n",
              "4      Pinot Noir         Sweet Cheeks  "
            ],
            "text/html": [
              "\n",
              "\n",
              "  <div id=\"df-e917f30f-9e1e-4f43-ac56-bbc8fa7b5f41\">\n",
              "    <div class=\"colab-df-container\">\n",
              "      <div>\n",
              "<style scoped>\n",
              "    .dataframe tbody tr th:only-of-type {\n",
              "        vertical-align: middle;\n",
              "    }\n",
              "\n",
              "    .dataframe tbody tr th {\n",
              "        vertical-align: top;\n",
              "    }\n",
              "\n",
              "    .dataframe thead th {\n",
              "        text-align: right;\n",
              "    }\n",
              "</style>\n",
              "<table border=\"1\" class=\"dataframe\">\n",
              "  <thead>\n",
              "    <tr style=\"text-align: right;\">\n",
              "      <th></th>\n",
              "      <th>country</th>\n",
              "      <th>description</th>\n",
              "      <th>points</th>\n",
              "      <th>price</th>\n",
              "      <th>variety</th>\n",
              "      <th>winery</th>\n",
              "    </tr>\n",
              "  </thead>\n",
              "  <tbody>\n",
              "    <tr>\n",
              "      <th>0</th>\n",
              "      <td>Italy</td>\n",
              "      <td>Aromas include tropical fruit, broom, brimston...</td>\n",
              "      <td>87</td>\n",
              "      <td>NaN</td>\n",
              "      <td>White Blend</td>\n",
              "      <td>Nicosia</td>\n",
              "    </tr>\n",
              "    <tr>\n",
              "      <th>1</th>\n",
              "      <td>Portugal</td>\n",
              "      <td>This is ripe and fruity, a wine that is smooth...</td>\n",
              "      <td>87</td>\n",
              "      <td>15.0</td>\n",
              "      <td>Portuguese Red</td>\n",
              "      <td>Quinta dos Avidagos</td>\n",
              "    </tr>\n",
              "    <tr>\n",
              "      <th>2</th>\n",
              "      <td>US</td>\n",
              "      <td>Tart and snappy, the flavors of lime flesh and...</td>\n",
              "      <td>87</td>\n",
              "      <td>14.0</td>\n",
              "      <td>Pinot Gris</td>\n",
              "      <td>Rainstorm</td>\n",
              "    </tr>\n",
              "    <tr>\n",
              "      <th>3</th>\n",
              "      <td>US</td>\n",
              "      <td>Pineapple rind, lemon pith and orange blossom ...</td>\n",
              "      <td>87</td>\n",
              "      <td>13.0</td>\n",
              "      <td>Riesling</td>\n",
              "      <td>St. Julian</td>\n",
              "    </tr>\n",
              "    <tr>\n",
              "      <th>4</th>\n",
              "      <td>US</td>\n",
              "      <td>Much like the regular bottling from 2012, this...</td>\n",
              "      <td>87</td>\n",
              "      <td>65.0</td>\n",
              "      <td>Pinot Noir</td>\n",
              "      <td>Sweet Cheeks</td>\n",
              "    </tr>\n",
              "  </tbody>\n",
              "</table>\n",
              "</div>\n",
              "      <button class=\"colab-df-convert\" onclick=\"convertToInteractive('df-e917f30f-9e1e-4f43-ac56-bbc8fa7b5f41')\"\n",
              "              title=\"Convert this dataframe to an interactive table.\"\n",
              "              style=\"display:none;\">\n",
              "\n",
              "  <svg xmlns=\"http://www.w3.org/2000/svg\" height=\"24px\"viewBox=\"0 0 24 24\"\n",
              "       width=\"24px\">\n",
              "    <path d=\"M0 0h24v24H0V0z\" fill=\"none\"/>\n",
              "    <path d=\"M18.56 5.44l.94 2.06.94-2.06 2.06-.94-2.06-.94-.94-2.06-.94 2.06-2.06.94zm-11 1L8.5 8.5l.94-2.06 2.06-.94-2.06-.94L8.5 2.5l-.94 2.06-2.06.94zm10 10l.94 2.06.94-2.06 2.06-.94-2.06-.94-.94-2.06-.94 2.06-2.06.94z\"/><path d=\"M17.41 7.96l-1.37-1.37c-.4-.4-.92-.59-1.43-.59-.52 0-1.04.2-1.43.59L10.3 9.45l-7.72 7.72c-.78.78-.78 2.05 0 2.83L4 21.41c.39.39.9.59 1.41.59.51 0 1.02-.2 1.41-.59l7.78-7.78 2.81-2.81c.8-.78.8-2.07 0-2.86zM5.41 20L4 18.59l7.72-7.72 1.47 1.35L5.41 20z\"/>\n",
              "  </svg>\n",
              "      </button>\n",
              "\n",
              "\n",
              "\n",
              "    <div id=\"df-0c3989fd-f385-4308-a739-5f729ac335bf\">\n",
              "      <button class=\"colab-df-quickchart\" onclick=\"quickchart('df-0c3989fd-f385-4308-a739-5f729ac335bf')\"\n",
              "              title=\"Suggest charts.\"\n",
              "              style=\"display:none;\">\n",
              "\n",
              "<svg xmlns=\"http://www.w3.org/2000/svg\" height=\"24px\"viewBox=\"0 0 24 24\"\n",
              "     width=\"24px\">\n",
              "    <g>\n",
              "        <path d=\"M19 3H5c-1.1 0-2 .9-2 2v14c0 1.1.9 2 2 2h14c1.1 0 2-.9 2-2V5c0-1.1-.9-2-2-2zM9 17H7v-7h2v7zm4 0h-2V7h2v10zm4 0h-2v-4h2v4z\"/>\n",
              "    </g>\n",
              "</svg>\n",
              "      </button>\n",
              "    </div>\n",
              "\n",
              "<style>\n",
              "  .colab-df-quickchart {\n",
              "    background-color: #E8F0FE;\n",
              "    border: none;\n",
              "    border-radius: 50%;\n",
              "    cursor: pointer;\n",
              "    display: none;\n",
              "    fill: #1967D2;\n",
              "    height: 32px;\n",
              "    padding: 0 0 0 0;\n",
              "    width: 32px;\n",
              "  }\n",
              "\n",
              "  .colab-df-quickchart:hover {\n",
              "    background-color: #E2EBFA;\n",
              "    box-shadow: 0px 1px 2px rgba(60, 64, 67, 0.3), 0px 1px 3px 1px rgba(60, 64, 67, 0.15);\n",
              "    fill: #174EA6;\n",
              "  }\n",
              "\n",
              "  [theme=dark] .colab-df-quickchart {\n",
              "    background-color: #3B4455;\n",
              "    fill: #D2E3FC;\n",
              "  }\n",
              "\n",
              "  [theme=dark] .colab-df-quickchart:hover {\n",
              "    background-color: #434B5C;\n",
              "    box-shadow: 0px 1px 3px 1px rgba(0, 0, 0, 0.15);\n",
              "    filter: drop-shadow(0px 1px 2px rgba(0, 0, 0, 0.3));\n",
              "    fill: #FFFFFF;\n",
              "  }\n",
              "</style>\n",
              "\n",
              "    <script>\n",
              "      async function quickchart(key) {\n",
              "        const containerElement = document.querySelector('#' + key);\n",
              "        const charts = await google.colab.kernel.invokeFunction(\n",
              "            'suggestCharts', [key], {});\n",
              "      }\n",
              "    </script>\n",
              "\n",
              "      <script>\n",
              "\n",
              "function displayQuickchartButton(domScope) {\n",
              "  let quickchartButtonEl =\n",
              "    domScope.querySelector('#df-0c3989fd-f385-4308-a739-5f729ac335bf button.colab-df-quickchart');\n",
              "  quickchartButtonEl.style.display =\n",
              "    google.colab.kernel.accessAllowed ? 'block' : 'none';\n",
              "}\n",
              "\n",
              "        displayQuickchartButton(document);\n",
              "      </script>\n",
              "      <style>\n",
              "    .colab-df-container {\n",
              "      display:flex;\n",
              "      flex-wrap:wrap;\n",
              "      gap: 12px;\n",
              "    }\n",
              "\n",
              "    .colab-df-convert {\n",
              "      background-color: #E8F0FE;\n",
              "      border: none;\n",
              "      border-radius: 50%;\n",
              "      cursor: pointer;\n",
              "      display: none;\n",
              "      fill: #1967D2;\n",
              "      height: 32px;\n",
              "      padding: 0 0 0 0;\n",
              "      width: 32px;\n",
              "    }\n",
              "\n",
              "    .colab-df-convert:hover {\n",
              "      background-color: #E2EBFA;\n",
              "      box-shadow: 0px 1px 2px rgba(60, 64, 67, 0.3), 0px 1px 3px 1px rgba(60, 64, 67, 0.15);\n",
              "      fill: #174EA6;\n",
              "    }\n",
              "\n",
              "    [theme=dark] .colab-df-convert {\n",
              "      background-color: #3B4455;\n",
              "      fill: #D2E3FC;\n",
              "    }\n",
              "\n",
              "    [theme=dark] .colab-df-convert:hover {\n",
              "      background-color: #434B5C;\n",
              "      box-shadow: 0px 1px 3px 1px rgba(0, 0, 0, 0.15);\n",
              "      filter: drop-shadow(0px 1px 2px rgba(0, 0, 0, 0.3));\n",
              "      fill: #FFFFFF;\n",
              "    }\n",
              "  </style>\n",
              "\n",
              "      <script>\n",
              "        const buttonEl =\n",
              "          document.querySelector('#df-e917f30f-9e1e-4f43-ac56-bbc8fa7b5f41 button.colab-df-convert');\n",
              "        buttonEl.style.display =\n",
              "          google.colab.kernel.accessAllowed ? 'block' : 'none';\n",
              "\n",
              "        async function convertToInteractive(key) {\n",
              "          const element = document.querySelector('#df-e917f30f-9e1e-4f43-ac56-bbc8fa7b5f41');\n",
              "          const dataTable =\n",
              "            await google.colab.kernel.invokeFunction('convertToInteractive',\n",
              "                                                     [key], {});\n",
              "          if (!dataTable) return;\n",
              "\n",
              "          const docLinkHtml = 'Like what you see? Visit the ' +\n",
              "            '<a target=\"_blank\" href=https://colab.research.google.com/notebooks/data_table.ipynb>data table notebook</a>'\n",
              "            + ' to learn more about interactive tables.';\n",
              "          element.innerHTML = '';\n",
              "          dataTable['output_type'] = 'display_data';\n",
              "          await google.colab.output.renderOutput(dataTable, element);\n",
              "          const docLink = document.createElement('div');\n",
              "          docLink.innerHTML = docLinkHtml;\n",
              "          element.appendChild(docLink);\n",
              "        }\n",
              "      </script>\n",
              "    </div>\n",
              "  </div>\n"
            ]
          },
          "metadata": {},
          "execution_count": 6
        }
      ]
    },
    {
      "cell_type": "code",
      "source": [
        "df_w = df_w.dropna(subset= ['description', 'points'])"
      ],
      "metadata": {
        "id": "aZgVob_SN-91"
      },
      "execution_count": 7,
      "outputs": []
    },
    {
      "cell_type": "markdown",
      "source": [
        "## Diabetes data sets"
      ],
      "metadata": {
        "id": "y3DrKVMIkEyQ"
      }
    },
    {
      "cell_type": "code",
      "source": [
        "# df_d.columns"
      ],
      "metadata": {
        "colab": {
          "base_uri": "https://localhost:8080/"
        },
        "id": "LQsQ7YQPhxIR",
        "outputId": "f998b991-c7b0-49bf-bbfb-42152a5d7e5a"
      },
      "execution_count": 6,
      "outputs": [
        {
          "output_type": "execute_result",
          "data": {
            "text/plain": [
              "Index(['Pregnancies', 'Glucose', 'BloodPressure', 'SkinThickness', 'Insulin',\n",
              "       'BMI', 'DiabetesPedigreeFunction', 'Age', 'Outcome'],\n",
              "      dtype='object')"
            ]
          },
          "metadata": {},
          "execution_count": 6
        }
      ]
    },
    {
      "cell_type": "code",
      "source": [
        "# x = df_d[df_d.columns[:-1]].values\n",
        "# y = df_d[df_d.columns[-1]].values"
      ],
      "metadata": {
        "id": "ODj6lnPTqKCx"
      },
      "execution_count": 9,
      "outputs": []
    },
    {
      "cell_type": "code",
      "source": [
        "from sklearn.preprocessing import StandardScaler\n",
        "# scaler = StandardScaler()\n",
        "# # Scale the feature sets\n",
        "# x = scaler.fit_transform(x)\n",
        "# # Put back the feature sets + label column\n",
        "# data = np.hstack((x, np.reshape(y,(-1,1))))\n",
        "# # Convert array back to data frame\n",
        "# transformed_df = pd.DataFrame(data, columns=df_d.columns)"
      ],
      "metadata": {
        "id": "w4bkE4biwnU9"
      },
      "execution_count": 10,
      "outputs": []
    },
    {
      "cell_type": "code",
      "source": [
        "# for label in df_d.columns[:-1]:  # Exclude the last column (Outcome) from the loop\n",
        "#     plt.hist(transformed_df[transformed_df['Outcome'] == 1][label], color='red', label=\"Diabetes\", alpha=0.5, density=True, bins=15) #alpha adjusts transparency\n",
        "#                                                                                           #When density=True is set, the histogram is normalized such that the area under the histogram is equal to 1.\n",
        "#     plt.hist(transformed_df[transformed_df['Outcome'] == 0][label], color='blue', label=\"No Diabetes\", alpha=0.5, density=True, bins=15)\n",
        "#     plt.title(label)\n",
        "#     plt.ylabel(\"Probability\") # Cuz normalized, it means count/total\n",
        "#     plt.xlabel(label)\n",
        "#     plt.legend()\n",
        "#     plt.show()"
      ],
      "metadata": {
        "id": "HwOFEZjiyYFV"
      },
      "execution_count": 11,
      "outputs": []
    },
    {
      "cell_type": "markdown",
      "source": [
        "### **Oversampling to make both classes the same amount**"
      ],
      "metadata": {
        "id": "GBrZ_J_TXCO7"
      }
    },
    {
      "cell_type": "code",
      "source": [
        "from imblearn.over_sampling import RandomOverSampler\n",
        "# ros = RandomOverSampler(random_state=0)\n",
        "# x_resampled, y_resampled = ros.fit_resample(x, y)\n",
        "# print(np.bincount(y_resampled))"
      ],
      "metadata": {
        "id": "I1NZtHmmzt5y"
      },
      "execution_count": 23,
      "outputs": []
    },
    {
      "cell_type": "code",
      "source": [
        "from sklearn.model_selection import train_test_split\n",
        "# x_train, x_temp, y_train, y_temp = train_test_split(x_resampled,y_resampled, test_size=0.4, random_state=0)\n",
        "# x_valid, x_test, y_valid, y_test = train_test_split(x_temp,y_temp, test_size=0.5, random_state=0)"
      ],
      "metadata": {
        "id": "aHIelcHqqaUH"
      },
      "execution_count": 27,
      "outputs": []
    },
    {
      "cell_type": "code",
      "source": [
        "# from keras.layers.attention.multi_head_attention import activation\n",
        "# model = tf.keras.Sequential([\n",
        "#     tf.keras.layers.Dense(16, activation='relu'),\n",
        "#     tf.keras.layers.Dense(16, activation='relu'),\n",
        "#     tf.keras.layers.Dense(1, activation='sigmoid')\n",
        "# ])"
      ],
      "metadata": {
        "id": "AvKYbQqLuM-c"
      },
      "execution_count": 14,
      "outputs": []
    },
    {
      "cell_type": "code",
      "source": [
        "# from keras.engine.training import optimizer\n",
        "# model.compile(optimizer=tf.keras.optimizers.Adam(learning_rate=0.001),\n",
        "#               loss=tf.keras.losses.BinaryCrossentropy(),\n",
        "#               metrics=['accuracy'])"
      ],
      "metadata": {
        "id": "1h2Rhzc3u95r"
      },
      "execution_count": 15,
      "outputs": []
    },
    {
      "cell_type": "code",
      "source": [
        "# model.fit(x_train,y_train, batch_size=16,epochs=20,validation_data=(x_valid, y_valid))"
      ],
      "metadata": {
        "id": "_DUrTZ7Fvm_Z"
      },
      "execution_count": 16,
      "outputs": []
    },
    {
      "cell_type": "code",
      "source": [
        "# model.evaluate(x_test,y_test)"
      ],
      "metadata": {
        "id": "lUSCIZWivaPj"
      },
      "execution_count": 17,
      "outputs": []
    },
    {
      "cell_type": "markdown",
      "source": [
        "## Wine data set"
      ],
      "metadata": {
        "id": "LYLMeA4gkMbg"
      }
    },
    {
      "cell_type": "code",
      "source": [
        "plt.hist(df_w['points'], bins=20)\n",
        "plt.title(\"Points histograme\")\n",
        "plt.ylabel(\"Count\")\n",
        "plt.xlabel('Points')\n",
        "plt.show()"
      ],
      "metadata": {
        "colab": {
          "base_uri": "https://localhost:8080/",
          "height": 472
        },
        "id": "nJ33gNDuOd7n",
        "outputId": "a7822409-0f26-41d5-8802-c55a3e9604e7"
      },
      "execution_count": 18,
      "outputs": [
        {
          "output_type": "display_data",
          "data": {
            "text/plain": [
              "<Figure size 640x480 with 1 Axes>"
            ],
            "image/png": "[encoded data removed]"
          },
          "metadata": {}
        }
      ]
    },
    {
      "cell_type": "code",
      "source": [
        "df_w[\"label\"] = (df_w[\"points\"] >= 90).astype(int) # otherwise, 0\n",
        "df_w = df_w[[\"description\", \"points\", \"label\"]]"
      ],
      "metadata": {
        "id": "57yi_1BLOrVq"
      },
      "execution_count": 19,
      "outputs": []
    },
    {
      "cell_type": "code",
      "source": [
        "df_w[\"label\"].value_counts()"
      ],
      "metadata": {
        "colab": {
          "base_uri": "https://localhost:8080/"
        },
        "id": "RgHTzPSh2gam",
        "outputId": "4b729469-7398-41cc-9f91-99d6386a2001"
      },
      "execution_count": 20,
      "outputs": [
        {
          "output_type": "execute_result",
          "data": {
            "text/plain": [
              "0    80926\n",
              "1    49045\n",
              "Name: label, dtype: int64"
            ]
          },
          "metadata": {},
          "execution_count": 20
        }
      ]
    },
    {
      "cell_type": "code",
      "source": [
        "# Reshape the input arrays to 2D\n",
        "ros = RandomOverSampler(random_state=42)\n",
        "X = df_w[\"description\"].values.reshape(-1, 1)\n",
        "y = df_w[\"label\"].values.reshape(-1, 1)\n",
        "x_resampled, y_resampled = ros.fit_resample(X, y)"
      ],
      "metadata": {
        "id": "5TJ7WvJn25Qz"
      },
      "execution_count": 24,
      "outputs": []
    },
    {
      "cell_type": "code",
      "source": [
        "x_resampled"
      ],
      "metadata": {
        "colab": {
          "base_uri": "https://localhost:8080/"
        },
        "id": "yQ1276qbYeWf",
        "outputId": "6c320085-da4b-4a40-8ba2-3a0331ba30bd"
      },
      "execution_count": 25,
      "outputs": [
        {
          "output_type": "execute_result",
          "data": {
            "text/plain": [
              "array([[\"Aromas include tropical fruit, broom, brimstone and dried herb. The palate isn't overly expressive, offering unripened apple, citrus and dried sage alongside brisk acidity.\"],\n",
              "       [\"This is ripe and fruity, a wine that is smooth while still structured. Firm tannins are filled out with juicy red berry fruits and freshened with acidity. It's  already drinkable, although it will certainly be better from 2016.\"],\n",
              "       ['Tart and snappy, the flavors of lime flesh and rind dominate. Some green pineapple pokes through, with crisp acidity underscoring the flavors. The wine was all stainless-steel fermented.'],\n",
              "       ...,\n",
              "       ['Produced from 60-year-old vines, this wine has a great balance between crisp acidity and ripe yellow and white stone fruit flavors. It is rich with a touch of toast and spice from wood fermentation and aging. The wine is still young and will be better from 2018.'],\n",
              "       [\"This wine is pretty and floral in violet and lavender, soft, smooth and simply rendered. High-toned in bright red fruit, it's out and out yummy and a tribute to a great old vineyard still planted to the rare variety.\"],\n",
              "       ['Made entirely with Trebbiano di Soave, this vibrant white offers enticing aromas of white flower and citrus blossom. The linear palate delivers juicy yellow peach, pear, kiwi and mineral alongside firm acidity.']],\n",
              "      dtype=object)"
            ]
          },
          "metadata": {},
          "execution_count": 25
        }
      ]
    },
    {
      "cell_type": "code",
      "source": [
        "# Split the data set into training, validation, testing\n",
        "# train, val, test = np.split(df_w.sample(frac=1, random_state=42), [int(0.8*len(df_w)), int(0.9*len(df_w))])\n",
        "x_train, x_temp, y_train, y_temp = train_test_split(x_resampled,y_resampled, test_size=0.8, random_state = 42)\n",
        "x_valid, x_test, y_valid, y_test = train_test_split(x_temp,y_temp, test_size=0.9, random_state = 42)"
      ],
      "metadata": {
        "id": "9dxAtf5nj71z"
      },
      "execution_count": 28,
      "outputs": []
    },
    {
      "cell_type": "code",
      "source": [
        "x_train"
      ],
      "metadata": {
        "colab": {
          "base_uri": "https://localhost:8080/"
        },
        "id": "WRunM7G3Zcnt",
        "outputId": "dafc04a3-b051-49af-b9d3-9a4c02f297bf"
      },
      "execution_count": 29,
      "outputs": [
        {
          "output_type": "execute_result",
          "data": {
            "text/plain": [
              "array([['Ripe, succulent peach and melon flavors mark this dry but lusciously textured Sauvignon Blanc. Crisp and minerally, yet juicy and thirst quenching, this has so much dimension in each sip. It finishes quite floral, with just a touch of lime-pith astringency.'],\n",
              "       [\"Good price for a nice, dry Cabernet with so much fruit. It's forward in ripe blackberry, blueberry and cherry jam flavors, with a rich coat of smoky oak.\"],\n",
              "       [\"Juicy in cassis and black cherry before taking on beguiling layers of peppercorn, chicory, tobacco and black tea, this Cab has a lot going on from the get-go, and yet there's no doubt about its ability to take on further nuance and complexity with time. Bittersweet chocolate accents the finish. Enjoy through 2027–2030.\"],\n",
              "       ...,\n",
              "       [\"Penetrating flavors of preserved peach and honey are nuanced by layers of saffron, pollen and high-toned acidity in this sun-kissed auslese. It's delicate in body, yet concentrated in flavor and ripples of sweet nectar seem to amble endlessly on the finish. Gorgeous now, but should develop well for decades to come.\"],\n",
              "       ['This big boy greets us with his deep ruby/black cloak. Loaded with cassis from start to finish, there is tremendous fruit depth here and a full, supple mouthfeel. Reminiscent of one of the successful large-scale ‘97 California Cabernets. Has tannins to resolve, best held for a year or two.'],\n",
              "       ['Maestro opens with fruit and balsamic aromas of red currant, grilled pepper and Mediterranean herbs. The palate is still quite tight and closed, but reveals soft flavors of plum, black cherry, espresso and nutmeg. This needs a little more time to open up, so give it a few more years in the cellar.']],\n",
              "      dtype=object)"
            ]
          },
          "metadata": {},
          "execution_count": 29
        }
      ]
    },
    {
      "cell_type": "code",
      "source": [
        "train_dataset = {\n",
        "    'description': x_train,\n",
        "    'label': y_train\n",
        "}\n",
        "\n",
        "valid_dataset = {\n",
        "    'description': x_valid,\n",
        "    'label': y_valid\n",
        "}\n",
        "\n",
        "test_dataset = {\n",
        "    'description': x_test,\n",
        "    'label': y_test\n",
        "}\n",
        "\n",
        "# Reshape 2D arrays to 1D arrays using np.squeeze\n",
        "x_train_1d = np.squeeze(x_train)\n",
        "y_train_1d = np.squeeze(y_train)\n",
        "x_valid_1d = np.squeeze(x_valid)\n",
        "y_valid_1d = np.squeeze(y_valid)\n",
        "x_test_1d = np.squeeze(x_test)\n",
        "y_test_1d = np.squeeze(y_test)\n",
        "\n",
        "# Create data frames from the 1D arrays\n",
        "train_df = pd.DataFrame({'description': x_train_1d, 'label': y_train_1d})\n",
        "valid_df = pd.DataFrame({'description': x_valid_1d, 'label': y_valid_1d})\n",
        "test_df = pd.DataFrame({'description': x_test_1d, 'label': y_test_1d})"
      ],
      "metadata": {
        "id": "axkSvgwT4WvY"
      },
      "execution_count": 31,
      "outputs": []
    },
    {
      "cell_type": "code",
      "source": [
        "train_df"
      ],
      "metadata": {
        "colab": {
          "base_uri": "https://localhost:8080/",
          "height": 424
        },
        "id": "RlrAdABFZgLZ",
        "outputId": "8241ad78-ece9-4230-be0c-8bbf14b3fe3e"
      },
      "execution_count": 32,
      "outputs": [
        {
          "output_type": "execute_result",
          "data": {
            "text/plain": [
              "                                             description  label\n",
              "0      Ripe, succulent peach and melon flavors mark t...      1\n",
              "1      Good price for a nice, dry Cabernet with so mu...      0\n",
              "2      Juicy in cassis and black cherry before taking...      1\n",
              "3      Reserved notes of desiccated black fruit, loam...      0\n",
              "4      Aromas of struck match, seared lemon, roasted ...      0\n",
              "...                                                  ...    ...\n",
              "32365  This blend of Cabernet Sauvignon, Merlot and M...      0\n",
              "32366  Aromas of fragrant spring blossom, orchard fru...      1\n",
              "32367  Penetrating flavors of preserved peach and hon...      1\n",
              "32368  This big boy greets us with his deep ruby/blac...      1\n",
              "32369  Maestro opens with fruit and balsamic aromas o...      1\n",
              "\n",
              "[32370 rows x 2 columns]"
            ],
            "text/html": [
              "\n",
              "\n",
              "  <div id=\"df-43c48da5-7d62-4953-a56e-f2a27c16c4c9\">\n",
              "    <div class=\"colab-df-container\">\n",
              "      <div>\n",
              "<style scoped>\n",
              "    .dataframe tbody tr th:only-of-type {\n",
              "        vertical-align: middle;\n",
              "    }\n",
              "\n",
              "    .dataframe tbody tr th {\n",
              "        vertical-align: top;\n",
              "    }\n",
              "\n",
              "    .dataframe thead th {\n",
              "        text-align: right;\n",
              "    }\n",
              "</style>\n",
              "<table border=\"1\" class=\"dataframe\">\n",
              "  <thead>\n",
              "    <tr style=\"text-align: right;\">\n",
              "      <th></th>\n",
              "      <th>description</th>\n",
              "      <th>label</th>\n",
              "    </tr>\n",
              "  </thead>\n",
              "  <tbody>\n",
              "    <tr>\n",
              "      <th>0</th>\n",
              "      <td>Ripe, succulent peach and melon flavors mark t...</td>\n",
              "      <td>1</td>\n",
              "    </tr>\n",
              "    <tr>\n",
              "      <th>1</th>\n",
              "      <td>Good price for a nice, dry Cabernet with so mu...</td>\n",
              "      <td>0</td>\n",
              "    </tr>\n",
              "    <tr>\n",
              "      <th>2</th>\n",
              "      <td>Juicy in cassis and black cherry before taking...</td>\n",
              "      <td>1</td>\n",
              "    </tr>\n",
              "    <tr>\n",
              "      <th>3</th>\n",
              "      <td>Reserved notes of desiccated black fruit, loam...</td>\n",
              "      <td>0</td>\n",
              "    </tr>\n",
              "    <tr>\n",
              "      <th>4</th>\n",
              "      <td>Aromas of struck match, seared lemon, roasted ...</td>\n",
              "      <td>0</td>\n",
              "    </tr>\n",
              "    <tr>\n",
              "      <th>...</th>\n",
              "      <td>...</td>\n",
              "      <td>...</td>\n",
              "    </tr>\n",
              "    <tr>\n",
              "      <th>32365</th>\n",
              "      <td>This blend of Cabernet Sauvignon, Merlot and M...</td>\n",
              "      <td>0</td>\n",
              "    </tr>\n",
              "    <tr>\n",
              "      <th>32366</th>\n",
              "      <td>Aromas of fragrant spring blossom, orchard fru...</td>\n",
              "      <td>1</td>\n",
              "    </tr>\n",
              "    <tr>\n",
              "      <th>32367</th>\n",
              "      <td>Penetrating flavors of preserved peach and hon...</td>\n",
              "      <td>1</td>\n",
              "    </tr>\n",
              "    <tr>\n",
              "      <th>32368</th>\n",
              "      <td>This big boy greets us with his deep ruby/blac...</td>\n",
              "      <td>1</td>\n",
              "    </tr>\n",
              "    <tr>\n",
              "      <th>32369</th>\n",
              "      <td>Maestro opens with fruit and balsamic aromas o...</td>\n",
              "      <td>1</td>\n",
              "    </tr>\n",
              "  </tbody>\n",
              "</table>\n",
              "<p>32370 rows × 2 columns</p>\n",
              "</div>\n",
              "      <button class=\"colab-df-convert\" onclick=\"convertToInteractive('df-43c48da5-7d62-4953-a56e-f2a27c16c4c9')\"\n",
              "              title=\"Convert this dataframe to an interactive table.\"\n",
              "              style=\"display:none;\">\n",
              "\n",
              "  <svg xmlns=\"http://www.w3.org/2000/svg\" height=\"24px\"viewBox=\"0 0 24 24\"\n",
              "       width=\"24px\">\n",
              "    <path d=\"M0 0h24v24H0V0z\" fill=\"none\"/>\n",
              "    <path d=\"M18.56 5.44l.94 2.06.94-2.06 2.06-.94-2.06-.94-.94-2.06-.94 2.06-2.06.94zm-11 1L8.5 8.5l.94-2.06 2.06-.94-2.06-.94L8.5 2.5l-.94 2.06-2.06.94zm10 10l.94 2.06.94-2.06 2.06-.94-2.06-.94-.94-2.06-.94 2.06-2.06.94z\"/><path d=\"M17.41 7.96l-1.37-1.37c-.4-.4-.92-.59-1.43-.59-.52 0-1.04.2-1.43.59L10.3 9.45l-7.72 7.72c-.78.78-.78 2.05 0 2.83L4 21.41c.39.39.9.59 1.41.59.51 0 1.02-.2 1.41-.59l7.78-7.78 2.81-2.81c.8-.78.8-2.07 0-2.86zM5.41 20L4 18.59l7.72-7.72 1.47 1.35L5.41 20z\"/>\n",
              "  </svg>\n",
              "      </button>\n",
              "\n",
              "\n",
              "\n",
              "    <div id=\"df-b56b1417-0077-4194-ae39-050c09632b9e\">\n",
              "      <button class=\"colab-df-quickchart\" onclick=\"quickchart('df-b56b1417-0077-4194-ae39-050c09632b9e')\"\n",
              "              title=\"Suggest charts.\"\n",
              "              style=\"display:none;\">\n",
              "\n",
              "<svg xmlns=\"http://www.w3.org/2000/svg\" height=\"24px\"viewBox=\"0 0 24 24\"\n",
              "     width=\"24px\">\n",
              "    <g>\n",
              "        <path d=\"M19 3H5c-1.1 0-2 .9-2 2v14c0 1.1.9 2 2 2h14c1.1 0 2-.9 2-2V5c0-1.1-.9-2-2-2zM9 17H7v-7h2v7zm4 0h-2V7h2v10zm4 0h-2v-4h2v4z\"/>\n",
              "    </g>\n",
              "</svg>\n",
              "      </button>\n",
              "    </div>\n",
              "\n",
              "<style>\n",
              "  .colab-df-quickchart {\n",
              "    background-color: #E8F0FE;\n",
              "    border: none;\n",
              "    border-radius: 50%;\n",
              "    cursor: pointer;\n",
              "    display: none;\n",
              "    fill: #1967D2;\n",
              "    height: 32px;\n",
              "    padding: 0 0 0 0;\n",
              "    width: 32px;\n",
              "  }\n",
              "\n",
              "  .colab-df-quickchart:hover {\n",
              "    background-color: #E2EBFA;\n",
              "    box-shadow: 0px 1px 2px rgba(60, 64, 67, 0.3), 0px 1px 3px 1px rgba(60, 64, 67, 0.15);\n",
              "    fill: #174EA6;\n",
              "  }\n",
              "\n",
              "  [theme=dark] .colab-df-quickchart {\n",
              "    background-color: #3B4455;\n",
              "    fill: #D2E3FC;\n",
              "  }\n",
              "\n",
              "  [theme=dark] .colab-df-quickchart:hover {\n",
              "    background-color: #434B5C;\n",
              "    box-shadow: 0px 1px 3px 1px rgba(0, 0, 0, 0.15);\n",
              "    filter: drop-shadow(0px 1px 2px rgba(0, 0, 0, 0.3));\n",
              "    fill: #FFFFFF;\n",
              "  }\n",
              "</style>\n",
              "\n",
              "    <script>\n",
              "      async function quickchart(key) {\n",
              "        const containerElement = document.querySelector('#' + key);\n",
              "        const charts = await google.colab.kernel.invokeFunction(\n",
              "            'suggestCharts', [key], {});\n",
              "      }\n",
              "    </script>\n",
              "\n",
              "      <script>\n",
              "\n",
              "function displayQuickchartButton(domScope) {\n",
              "  let quickchartButtonEl =\n",
              "    domScope.querySelector('#df-b56b1417-0077-4194-ae39-050c09632b9e button.colab-df-quickchart');\n",
              "  quickchartButtonEl.style.display =\n",
              "    google.colab.kernel.accessAllowed ? 'block' : 'none';\n",
              "}\n",
              "\n",
              "        displayQuickchartButton(document);\n",
              "      </script>\n",
              "      <style>\n",
              "    .colab-df-container {\n",
              "      display:flex;\n",
              "      flex-wrap:wrap;\n",
              "      gap: 12px;\n",
              "    }\n",
              "\n",
              "    .colab-df-convert {\n",
              "      background-color: #E8F0FE;\n",
              "      border: none;\n",
              "      border-radius: 50%;\n",
              "      cursor: pointer;\n",
              "      display: none;\n",
              "      fill: #1967D2;\n",
              "      height: 32px;\n",
              "      padding: 0 0 0 0;\n",
              "      width: 32px;\n",
              "    }\n",
              "\n",
              "    .colab-df-convert:hover {\n",
              "      background-color: #E2EBFA;\n",
              "      box-shadow: 0px 1px 2px rgba(60, 64, 67, 0.3), 0px 1px 3px 1px rgba(60, 64, 67, 0.15);\n",
              "      fill: #174EA6;\n",
              "    }\n",
              "\n",
              "    [theme=dark] .colab-df-convert {\n",
              "      background-color: #3B4455;\n",
              "      fill: #D2E3FC;\n",
              "    }\n",
              "\n",
              "    [theme=dark] .colab-df-convert:hover {\n",
              "      background-color: #434B5C;\n",
              "      box-shadow: 0px 1px 3px 1px rgba(0, 0, 0, 0.15);\n",
              "      filter: drop-shadow(0px 1px 2px rgba(0, 0, 0, 0.3));\n",
              "      fill: #FFFFFF;\n",
              "    }\n",
              "  </style>\n",
              "\n",
              "      <script>\n",
              "        const buttonEl =\n",
              "          document.querySelector('#df-43c48da5-7d62-4953-a56e-f2a27c16c4c9 button.colab-df-convert');\n",
              "        buttonEl.style.display =\n",
              "          google.colab.kernel.accessAllowed ? 'block' : 'none';\n",
              "\n",
              "        async function convertToInteractive(key) {\n",
              "          const element = document.querySelector('#df-43c48da5-7d62-4953-a56e-f2a27c16c4c9');\n",
              "          const dataTable =\n",
              "            await google.colab.kernel.invokeFunction('convertToInteractive',\n",
              "                                                     [key], {});\n",
              "          if (!dataTable) return;\n",
              "\n",
              "          const docLinkHtml = 'Like what you see? Visit the ' +\n",
              "            '<a target=\"_blank\" href=https://colab.research.google.com/notebooks/data_table.ipynb>data table notebook</a>'\n",
              "            + ' to learn more about interactive tables.';\n",
              "          element.innerHTML = '';\n",
              "          dataTable['output_type'] = 'display_data';\n",
              "          await google.colab.output.renderOutput(dataTable, element);\n",
              "          const docLink = document.createElement('div');\n",
              "          docLink.innerHTML = docLinkHtml;\n",
              "          element.appendChild(docLink);\n",
              "        }\n",
              "      </script>\n",
              "    </div>\n",
              "  </div>\n"
            ]
          },
          "metadata": {},
          "execution_count": 32
        }
      ]
    },
    {
      "cell_type": "code",
      "source": [
        "# this function prepares the data from the pandas DataFrame in a way that is suitable for feeding it into a TensorFlow model efficiently\n",
        "def df_to_dataset(dataframe, shuffle=True, batch_size=1024):\n",
        "    dataframe = dataframe.copy()\n",
        "    labels = dataframe.pop('label')\n",
        "    df = dataframe[\"description\"]\n",
        "    ds = tf.data.Dataset.from_tensor_slices((df, labels))\n",
        "    if shuffle:\n",
        "        ds = ds.shuffle(buffer_size=len(dataframe))\n",
        "    ds = ds.batch(batch_size)\n",
        "    ds = ds.prefetch(tf.data.AUTOTUNE)\n",
        "    return ds"
      ],
      "metadata": {
        "id": "cLtna0xKk32K"
      },
      "execution_count": 33,
      "outputs": []
    },
    {
      "cell_type": "code",
      "source": [
        "train_data = df_to_dataset(train_df)\n",
        "val_data = df_to_dataset(valid_df)\n",
        "test_data = df_to_dataset(test_df)"
      ],
      "metadata": {
        "id": "vjStA3Oymvbe"
      },
      "execution_count": 34,
      "outputs": []
    },
    {
      "cell_type": "code",
      "source": [
        "list(train_data)[0] # [0] to retreive the first batch of data"
      ],
      "metadata": {
        "colab": {
          "base_uri": "https://localhost:8080/"
        },
        "id": "oOPvZ-cTnR18",
        "outputId": "101201d5-faf8-412c-8a80-fe09f7570c37"
      },
      "execution_count": 38,
      "outputs": [
        {
          "output_type": "execute_result",
          "data": {
            "text/plain": [
              "(<tf.Tensor: shape=(1024,), dtype=string, numpy=\n",
              " array([b\"Chalk, cherry, crushed clove and nutmeg are all present on the nose from this 81% Cabernet Sauvignon / 19% Merlot from Paso Robles' Westside. It's juicy and vibrant once sipped, with deep red fruits and a blackberry finish. The wine isn't particularly complicated wine and there's isn't much tannic backbone for long cellaring, but it's tasty, approachable and easy-drinking now.\",\n",
              "        b'A delicate honeycomb flavor fringes pleasant apple and white flower notes on this dry, refreshing Tokaji blend. Lemony acidity adds structure and length to the finish. This is good introduction to Tokaji for those who prefer a dry style.',\n",
              "        b'Aromas of raw oak, cinnamon, bacon and clove outmuscle fruit on this rough, tannic, scraping 2013. Flavors of toast, chocolate and baking spices push blackberry and black-plum fruit towards an oaky, abrasive finish with rocky tannins and accents of chocolate and cinnamon. Holding this for another couple of years may or may not soften this fierce but tasty RDD.',\n",
              "        ...,\n",
              "        b\"As its name indicates, \\xe2\\x80\\x9cbarriques\\xe2\\x80\\x9d (barrels), this is that rare Pinot Blanc that is aged in wood. There's a mere hint of toast, the main thrust of this delicious wine being its pear and honeyed apple flavors, with acidity cutting through at the end.\",\n",
              "        b\"A cool-climate Pinot Gris, this is a finely tuned citrusy white, with crisp notes of peach and apricot. This is the winery's first release that's made from Marguerite Vineyard fruit. It spent no time in oak and malolactic fermentation was blocked, which helped to preserve an impressive amount of acidity.\",\n",
              "        b\"The fruit scents explode from the glass, showing raspberries, blueberries, cherries and plums in profusion. There is more stuffing, especially apparent in the nose and also in the mouth, than in the winery's varietal blends. The back end of the wine suggests bread and chocolate, light hints of toasted almond and cinnamon spice.\"],\n",
              "       dtype=object)>,\n",
              " <tf.Tensor: shape=(1024,), dtype=int64, numpy=array([1, 0, 1, ..., 0, 0, 1])>)"
            ]
          },
          "metadata": {},
          "execution_count": 38
        }
      ]
    },
    {
      "cell_type": "markdown",
      "source": [
        "# Embedding + Model"
      ],
      "metadata": {
        "id": "z_Grt9tftJBk"
      }
    },
    {
      "cell_type": "code",
      "source": [
        "embedding = \"https://tfhub.dev/google/nnlm-en-dim50/2\"\n",
        "hub_layer = hub.KerasLayer(embedding, dtype=tf.string, trainable = True)"
      ],
      "metadata": {
        "id": "wStBVhiSrYAi"
      },
      "execution_count": 39,
      "outputs": []
    },
    {
      "cell_type": "code",
      "source": [
        "hub_layer(list(train_data)[0][0])"
      ],
      "metadata": {
        "colab": {
          "base_uri": "https://localhost:8080/"
        },
        "id": "1bLYbczktS2n",
        "outputId": "528d1c50-3b45-4510-ee6e-9d982f971df7"
      },
      "execution_count": 40,
      "outputs": [
        {
          "output_type": "execute_result",
          "data": {
            "text/plain": [
              "<tf.Tensor: shape=(1024, 50), dtype=float32, numpy=\n",
              "array([[ 0.30836442, -0.26186812, -0.24162583, ..., -0.22065428,\n",
              "         0.32755274, -0.05825916],\n",
              "       [ 0.40435556,  0.22741406,  0.26115876, ..., -0.27883545,\n",
              "        -0.10433552,  0.22736995],\n",
              "       [ 0.27477014, -0.31211177, -0.07873951, ..., -0.13068944,\n",
              "        -0.09276537,  0.01058012],\n",
              "       ...,\n",
              "       [ 0.4528666 , -0.19420944,  0.11675142, ..., -0.04218502,\n",
              "        -0.33433238,  0.21939997],\n",
              "       [ 0.25685406, -0.05163066,  0.2831744 , ..., -0.18281378,\n",
              "        -0.23769301,  0.10830355],\n",
              "       [ 0.5519412 , -0.13906859,  0.400166  , ..., -0.02929816,\n",
              "        -0.13872862,  0.01853003]], dtype=float32)>"
            ]
          },
          "metadata": {},
          "execution_count": 40
        }
      ]
    },
    {
      "cell_type": "code",
      "source": [
        "model = tf.keras.Sequential()\n",
        "model.add(hub_layer)\n",
        "model.add(tf.keras.layers.Dense(16, activation='relu'))\n",
        "# In neural networks, dropout is a regularization technique used during training to prevent overfitting.\n",
        "model.add(tf.keras.layers.Dropout(0.4))\n",
        "model.add(tf.keras.layers.Dense(16, activation='relu'))\n",
        "model.add(tf.keras.layers.Dropout(0.4))\n",
        "model.add(tf.keras.layers.Dense(1, activation='sigmoid'))"
      ],
      "metadata": {
        "id": "BJRWoOGitkzX"
      },
      "execution_count": 71,
      "outputs": []
    },
    {
      "cell_type": "code",
      "source": [
        "model.compile(\n",
        "    optimizer=tf.keras.optimizers.Adam(learning_rate=0.0005),\n",
        "    loss=tf.keras.losses.BinaryCrossentropy(),\n",
        "    metrics=['accuracy']\n",
        ")"
      ],
      "metadata": {
        "id": "oNYCIflHzfMJ"
      },
      "execution_count": 72,
      "outputs": []
    },
    {
      "cell_type": "code",
      "source": [
        "model.evaluate(train_data)"
      ],
      "metadata": {
        "colab": {
          "base_uri": "https://localhost:8080/"
        },
        "id": "SKr_8fxkyLZk",
        "outputId": "ac0eaf33-7049-475c-ea8f-512ffe01b4a5"
      },
      "execution_count": 73,
      "outputs": [
        {
          "output_type": "stream",
          "name": "stdout",
          "text": [
            "32/32 [==============================] - 7s 182ms/step - loss: 0.7050 - accuracy: 0.3901\n"
          ]
        },
        {
          "output_type": "execute_result",
          "data": {
            "text/plain": [
              "[0.704979419708252, 0.39011430740356445]"
            ]
          },
          "metadata": {},
          "execution_count": 73
        }
      ]
    },
    {
      "cell_type": "code",
      "source": [
        "history = model.fit(train_data, epochs = 5, validation_data = val_data)"
      ],
      "metadata": {
        "colab": {
          "base_uri": "https://localhost:8080/"
        },
        "id": "K0Fm6OgCypzp",
        "outputId": "0970f407-86d5-40a7-c90c-8fdd68d8f247"
      },
      "execution_count": 74,
      "outputs": [
        {
          "output_type": "stream",
          "name": "stdout",
          "text": [
            "Epoch 1/5\n",
            "32/32 [==============================] - 41s 1s/step - loss: 0.6741 - accuracy: 0.5768 - val_loss: 0.6358 - val_accuracy: 0.7610\n",
            "Epoch 2/5\n",
            "32/32 [==============================] - 40s 1s/step - loss: 0.6047 - accuracy: 0.6853 - val_loss: 0.5562 - val_accuracy: 0.7854\n",
            "Epoch 3/5\n",
            "32/32 [==============================] - 40s 1s/step - loss: 0.5232 - accuracy: 0.7569 - val_loss: 0.4844 - val_accuracy: 0.8006\n",
            "Epoch 4/5\n",
            "32/32 [==============================] - 44s 1s/step - loss: 0.4509 - accuracy: 0.8065 - val_loss: 0.4412 - val_accuracy: 0.8079\n",
            "Epoch 5/5\n",
            "32/32 [==============================] - 42s 1s/step - loss: 0.3945 - accuracy: 0.8395 - val_loss: 0.4201 - val_accuracy: 0.8119\n"
          ]
        }
      ]
    },
    {
      "cell_type": "code",
      "source": [
        "model.evaluate(test_data)"
      ],
      "metadata": {
        "colab": {
          "base_uri": "https://localhost:8080/"
        },
        "id": "wH08WLwly2qh",
        "outputId": "819788ff-c64a-481a-981b-69059b22a2c3"
      },
      "execution_count": 69,
      "outputs": [
        {
          "output_type": "stream",
          "name": "stdout",
          "text": [
            "114/114 [==============================] - 18s 160ms/step - loss: 0.4112 - accuracy: 0.8133\n"
          ]
        },
        {
          "output_type": "execute_result",
          "data": {
            "text/plain": [
              "[0.411160409450531, 0.813264787197113]"
            ]
          },
          "metadata": {},
          "execution_count": 69
        }
      ]
    },
    {
      "cell_type": "code",
      "source": [
        "plt.plot(history.history['loss'], color=\"blue\", label=\"Traning loss\")\n",
        "plt.plot(history.history['val_loss'], color=\"yellow\", label=\"Validation loss\")\n",
        "plt.title(\"Loss of the model\")\n",
        "plt.ylabel(\"Loss\")\n",
        "plt.xlabel(\"Epoch\")\n",
        "plt.legend()\n",
        "plt.show()"
      ],
      "metadata": {
        "colab": {
          "base_uri": "https://localhost:8080/",
          "height": 472
        },
        "id": "_b5qOLl3zWSF",
        "outputId": "d7344a38-ac81-4884-afa7-fd470dce4509"
      },
      "execution_count": 75,
      "outputs": [
        {
          "output_type": "display_data",
          "data": {
            "text/plain": [
              "<Figure size 640x480 with 1 Axes>"
            ],
            "image/png": "[encoded data removed]"
          },
          "metadata": {}
        }
      ]
    },
    {
      "cell_type": "markdown",
      "source": [
        "# LSTM (Long Short-Term Memory)"
      ],
      "metadata": {
        "id": "VHbuLJnmkTHW"
      }
    },
    {
      "cell_type": "code",
      "source": [
        "encoder =  tf.keras.layers.TextVectorization(max_tokens=2000)\n",
        "encoder.adapt(train_data.map(lambda text, label: text))\n"
      ],
      "metadata": {
        "id": "a2VIcFw4bvcf"
      },
      "execution_count": 76,
      "outputs": []
    },
    {
      "cell_type": "code",
      "source": [
        "vocab = encoder.get_vocabulary()\n",
        "print(vocab)"
      ],
      "metadata": {
        "colab": {
          "base_uri": "https://localhost:8080/"
        },
        "id": "gRRsoTdun8a3",
        "outputId": "32750d5f-ec41-4c87-863a-7c1a5c463031"
      },
      "execution_count": 91,
      "outputs": [
        {
          "output_type": "stream",
          "name": "stdout",
          "text": [
            "['', '[UNK]', 'and', 'the', 'a', 'of', 'with', 'this', 'is', 'wine', 'in', 'flavors', 'to', 'it', 'its', 'on', 'fruit', 'aromas', 'palate', 'that', 'from', 'acidity', 'finish', 'but', 'tannins', 'drink', 'cherry', 'ripe', 'black', 'are', 'has', 'for', 'by', 'spice', 'notes', 'as', 'rich', 'an', 'red', 'nose', 'oak', 'fresh', 'now', 'dry', 'berry', 'fruits', 'plum', 'blackberry', 'blend', 'apple', 'through', 'texture', 'offers', 'soft', 'white', 'while', 'dark', 'crisp', 'sweet', 'shows', 'at', 'cabernet', 'citrus', 'well', 'more', 'very', 'bright', 'vanilla', 'light', 'pepper', 'full', 'firm', 'juicy', 'raspberry', 'good', 'will', 'some', 'years', 'chocolate', 'peach', 'fruity', 'lemon', 'green', 'structure', 'dried', 'character', 'touch', 'balanced', 'out', 'not', 'all', 'pear', 'sauvignon', 'or', 'spicy', 'be', 'concentrated', 'smooth', 'up', 'long', 'herb', 'licorice', 'made', 'tannic', 'pinot', 'fine', 'into', 'also', 'there', 'just', 'mineral', 'wood', 'still', 'age', 'dense', 'note', 'give', 'balance', 'so', 'tart', 'like', 'structured', 'merlot', 'vineyard', 'delicious', 'tobacco', 'hint', 'aging', 'herbal', 'flavor', 'toast', 'great', 'mouth', 'creamy', 'complex', 'along', 'leather', 'fullbodied', 'currant', 'yet', 'orange', 'savory', 'over', 'clean', 'elegant', 'opens', 'earthy', 'one', 'syrah', 'theres', 'bit', 'style', 'which', 'wines', 'tight', 'hints', 'lead', 'lime', 'cassis', 'alongside', 'freshness', 'new', 'than', 'time', 'richness', 'smoky', 'mouthfeel', 'young', 'ready', 'cherries', 'slightly', 'cola', 'herbs', 'vintage', 'chardonnay', 'yellow', 'big', 'delivers', 'wild', 'best', 'intense', 'lively', 'coffee', 'strawberry', 'earth', 'clove', 'should', 'you', 'color', 'core', 'honey', 'feel', 'grapefruit', 'bottling', 'feels', 'solid', 'almost', 'come', 'minerality', 'showing', 'floral', 'complexity', 'apricot', 'cinnamon', 'pineapple', 'melon', 'thats', 'show', 'scents', 'generous', 'little', 'crushed', 'stone', 'gives', 'barrel', 'refreshing', 'glass', 'finishes', 'concentration', 'tastes', 'comes', 'toasty', 'round', 'powerful', 'attractive', 'tropical', 'zest', 'cranberry', 'body', 'blueberry', 'baked', 'plenty', 'edge', 'weight', '2018', 'quite', 'easy', 'grapes', 'strong', 'spices', 'noir', 'make', 'lightly', 'after', 'alcohol', 'tangy', 'perfumed', 'cedar', 'mocha', 'simple', 'pretty', 'mature', 'aromatic', 'franc', 'silky', 'layers', 'smoke', 'toasted', 'power', 'bitter', 'anise', 'deep', 'bottle', 'lush', 'flower', 'rose', 'tones', 'bodied', 'rounded', 'depth', 'medium', 'vibrant', 'much', 'have', 'zesty', 'delicate', 'both', 'mix', 'bold', 'pure', 'enough', 'textured', 'mint', 'jammy', 'subtle', 'offering', 'makes', 'blanc', 'together', 'needs', 'oaky', 'dusty', 'followed', 'candied', 'here', 'although', 'riesling', 'baking', 'warm', 'roasted', '2017', 'way', 'off', 'too', 'right', 'nice', 'high', 'almond', 'velvety', 'layered', 'next', 'peel', 'first', 'end', 'peppery', 'brings', 'vineyards', 'polished', 'meat', 'even', 'aftertaste', 'exotic', 'malbec', 'blackberries', 'few', 'lovely', 'lingering', '2020', 'flowers', 'thick', 'sweetness', 'aged', 'then', 'espresso', 'can', 'develop', 'mediumbodied', 'caramel', 'estate', 'fruitiness', 'whiff', 'french', 'hard', 'tangerine', 'intensity', 'impressive', 'grape', 'forward', 'berries', 'around', 'pair', 'jam', 'most', 'brisk', 'tea', 'already', 'seems', 'was', 'supple', 'elegance', 'nicely', 'petit', 'grenache', 'currants', '100', 'tannin', 'cellar', 'bouquet', 'valley', 'grilled', 'violet', 'vines', 'sense', 'drinking', 'rather', 'verdot', 'giving', 'chewy', 'heavy', 'classic', 'before', 'quality', 'provide', 'beautiful', 'packed', 'sip', 'acids', 'only', 'year', 'lean', 'fragrant', 'sage', 'price', 'side', 'sangiovese', 'months', 'enjoy', 'lots', 'sour', 'until', 'close', 'varietal', 'could', 'accents', 'cut', 'add', 'integrated', 'beautifully', 'olive', '2019', 'taste', 'ripeness', '10', 'two', 'if', 'expression', 'does', 'sugar', 'potential', 'adds', 'cocoa', 'open', 'blue', 'between', 'no', 'forest', '2016', 'would', 'better', 'many', 'raspberries', 'about', 'rosé', 'prune', 'nectarine', 'despite', 'apples', 'sharp', 'produced', 'other', 'wet', 'least', 'what', 'finishing', 'variety', 'midpalate', 'leaf', 'cab', 'touches', 'overall', 'juice', 'length', 'though', 'plums', 'tightly', 'cool', 'old', 'focused', 'doesnt', 'take', 'back', 'accented', 'plump', 'backed', 'carry', 'opulent', 'honeysuckle', 'set', 'racy', 'plush', 'elements', 'smells', 'blossom', 'finegrained', 'skin', 'pleasant', 'another', 'soon', 'pomegranate', 'pink', 'without', 'acidic', 'ample', 'those', 'framed', 'excellent', 'appellation', 'top', 'where', 'purple', 'go', 'aroma', 'food', 'buttered', 'tomato', 'same', 'beef', 'lift', 'graphite', 'citrusy', 'mild', 'boysenberry', 'streak', 'across', 'winemaker', 'taut', 'refined', 'raisin', 'down', 'smoked', 'making', 'blackfruit', 'winery', 'meaty', 'grip', 'underbrush', 'pie', 'extra', 'mango', 'density', 'straightforward', 'soil', 'fleshy', 'cream', 'somewhat', 'approachable', 'their', 'keep', 'find', 'spiced', 'rustic', 'fully', 'robust', 'interesting', 'front', 'steely', 'heres', 'lot', 'against', 'hot', '2022', 'restrained', 'lemony', 'astringent', 'linger', 'appealing', 'suggest', 'perfect', 'viognier', 'raw', 'petite', 'menthol', 'boasts', 'small', 'mourvèdre', 'floor', 'coconut', 'support', 'serious', 'really', 'need', 'honeyed', 'being', '20', 'they', 'element', 'richly', 'inviting', 'chunky', 'thyme', 'sirah', 'balsamic', 'winerys', 'hold', 'given', 'get', 'woody', 'charred', 'zinfandel', 'short', 'dominate', 'lend', 'butter', 'tar', 'succulent', 'nutmeg', 'brown', 'gentle', 'leathery', 'fig', 'heat', 'soften', 'family', 'bordeaux', 'star', 'region', 'producer', 'certainly', 'yeasty', 'intensely', 'chalky', 'drying', 'doles', 'de', 'throughout', 'broad', 'sandalwood', 'finely', 'bacon', 'backbone', 'features', 'background', 'suggests', 'salty', 'fairly', 'bean', '2015', 'sourced', 'may', 'stage', 'provides', 'mouthwatering', 'firmly', 'slight', 'mountain', 'been', 'minerally', 'chopped', 'golden', 'further', 'appeal', 'pears', 'selection', 'carries', 'accent', 'coming', 'lifted', 'keeps', 'california', 'luscious', 'intriguing', 'entirely', 'going', '30', 'drinkable', 'starts', 'wrapped', 'fermented', 'your', 'such', 'offdry', 'minty', 'loaded', 'grown', 'bring', 'bracing', 'austere', 'youll', 'toward', 'these', 'mellow', 'youthful', 'napa', 'ginger', 'blended', 'linear', 'brooding', 'mushroom', 'softly', 'gorgeous', 'frame', 'five', 'grass', 'enticing', 'deeply', 'combine', 'seem', 'extracted', 'remains', 'freshly', 'candy', 'tasty', 'cake', 'value', 'immediately', 'dishes', 'suggesting', 'purity', 'mark', 'peaches', 'buttery', 'three', 'pressed', 'marked', '15', 'site', 'neutral', 'lingers', 'any', 'typical', 'six', 'grippy', 'game', 'example', 'start', 'highlights', 'leads', 'rubbery', 'moderate', 'final', 'modest', 'several', '2021', 'residual', 'natural', 'ground', 'dont', 'violets', 'sauce', 'banana', 'assertive', 'pencil', 'wound', 'tough', 'profile', 'dominated', 'whole', 'finesse', 'butterscotch', 'warmth', 'lavender', 'elegantly', 'slate', 'planted', 'crispness', 'always', 'pine', 'compact', 'asian', 'meet', 'lacks', 'brambly', 'strongly', 'quickly', 'own', 'low', 'edges', 'easygoing', 'screwcap', 'personality', 'effort', 'rind', 'richer', 'pith', 'hearty', 'burnt', 'stalky', 'form', 'easydrinking', 'skins', 'producers', 'nuances', 'leaves', 'impression', 'friendly', 'accessible', 'eucalyptus', 'char', 'relatively', 'line', 'hightoned', 'varieties', 'singlevineyard', 'extremely', 'dessert', 'milk', 'subdued', 'play', 'lasting', 'interest', 'enjoyable', 'dryness', 'release', 'part', 'emerge', 'basic', 'amount', 'less', 'slender', 'blends', 'barrels', 'adding', 'zin', 'try', 'modern', 'likely', 'focus', 'redfruit', 'perfectly', 'nut', 'leafy', 'heady', 'acid', 'wait', 'overripe', 'deliciously', 'slowly', 'laced', 'gritty', 'especially', 'do', 'bitterness', 'pleasing', '5', 'unusual', 'stony', 'sparkling', 'redberry', 'lighter', 'cru', 'reveals', 'wonderful', 'summer', 'offer', 'layer', 'additional', '40', 'within', 'surprisingly', 'expressive', 'everything', 'blackcurrant', 'who', 'satisfying', 'named', 'flavorful', 'chocolaty', 'apricots', '50', 'thin', 'tempranillo', 'range', 'lightbodied', 'lemonlime', 'briny', 'once', 'mousse', 'might', 'itself', 'bite', 'truffle', 'spring', 'mostly', 'developing', 'blackcherry', 'supported', 'result', 'nutty', 'lees', 'closes', 'away', 'apéritif', 'wonderfully', 'steel', 'petals', 'rhubarb', 'late', 'everyday', 'closed', 'center', 'yeast', 'tasting', 'takes', 'passion', 'loads', 'behind', 'sophisticated', 'minerals', 'shiraz', 'persistent', 'cured', 'mouthfilling', 'lends', 'sparkler', 'lychee', 'flat', 'fennel', 'compelling', '2010', 'stewed', 'penetrating', 'balances', 'under', 'thanks', 'tension', 'plus', 'isnt', 'point', 'leading', 'appetizing', 'four', 'bay', 'astringency', 'pithy', 'petal', 'mixed', 'level', 'bone', 'tilled', 'opening', 'last', 'jasmine', 'cases', '25', 'syrup', 'oily', 'includes', 'pale', 'each', 'second', 'easily', 'because', 'true', 'decade', 'sample', 'include', 'huge', 'hills', 'things', 'them', 'steak', 'rough', 'river', 'tang', 'perfume', 'mediterranean', 'herbaceous', 'flavored', 'far', 'combination', '60', '2025', 'turns', 'riper', 'meyer', 'honeydew', 'continue', 'combines', 'were', 'salt', 'overly', 'name', '2014', 'sea', 'rubber', 'known', 'flesh', 'syrupy', 'nuanced', 'moderately', 'lengthy', 'grabby', 'gets', 'shy', 'parts', 'meats', 'future', 'equal', 'when', 'wellbalanced', 'waves', 'saturated', 'different', 'considerable', 'barolo', 'aromatics', 'streaks', 'papaya', 'inky', 'gris', 'champagne', 'touriga', 'root', 'promise', 'pleasure', 'otherwise', 'half', 'grassy', 'densely', 'bread', '2012', 'never', 'liqueur', 'dominates', 'displays', 'substantial', 'stylish', 'nuts', 'however', 'hazelnut', '2011', 'resiny', 'present', 'label', 'vivid', 'something', 'mingle', 'improve', 'holds', 'complete', 'caramelized', 'stainless', 'funky', 'framework', 'fill', 'drop', 'beyond', 'worth', 'leaving', 'fat', 'cheese', 'burst', 'reminiscent', 'real', 'nacional', 'drunk', '2023', 'want', 'southern', 'oregano', 'meld', 'including', 'cuvée', 'cigar', 'bell', 'vintages', 'underlying', 'feeling', 'prominent', 'generic', 'delicately', 'brunello', 'bramble', 'terms', 'tense', 'influence', 'direct', 'bursting', 'seductive', 'muscular', 'limes', 'fermentation', 'citric', 'alluring', '70', 'turn', 'oregon', 'drinks', 'blossoms', 'table', 'sleek', 'peppercorn', 'mildly', 'initially', 'whiffs', 'strawberries', 'reveal', 'rare', 'pristine', 'pipe', 'orchard', 'northern', 'distinctive', 'bringing', 'marks', 'kiwi', 'above', 'totally', 'stonefruit', 'sensations', 'early', 'blueberries', 'pleasantly', 'pineapples', 'how', 'fragrance', 'flint', 'brightened', '12', 'woodaged', 'unique', 'tongue', 'stand', 'softness', 'shape', 'medicinal', 'goes', 'crème', 'based', '2009', 'nero', 'life', 'iron', 'fare', 'quince', 'pairing', 'near', 'nature', 'leave', 'allow', 'work', 'waxy', 'sticky', 'sheer', 'wellintegrated', 'smelling', 'single', 'longer', 'fun', 'equally', 'dill', 'coastal', 'appear', 'sugary', 'snappy', 'recall', 'pungent', 'pastry', 'past', 'onto', 'italy', 'his', 'help', 'hay', 'earthiness', 'coolclimate', 'components', 'characteristics', 'ageworthy', 'upfront', 'run', 'reserve', 'pork', 'match', 'let', 'la', 'evident', 'decent', 'cardamom', 'among', 'primary', 'pasta', 'brawny', 'vegetal', 'often', 'nothing', 'hits', 'bordeauxstyle', 'tone', 'shine', 'rest', 'oaked', 'keeping', 'definitely', 'asphalt', 'tartness', 'similar', 'resin', 'heart', 'experience', 'dominant', 'wide', 'presents', 'chard', 'cellaring', 'benefit', 'barbecue', '18', 'roussanne', 'extract', 'château', 'become', '2007', 'touched', 'textural', 'nearly', 'elderberry', 'due', 'standard', 'production', 'faint', 'expect', 'chalk', 'briary', 'balancing', 'tiny', 'santa', 'perhaps', 'harmonious', 'gooseberry', 'cuts', 'allspice', 'vein', 'plays', 'nuance', 'foods', 'decant', 'continues', 'central', 'blackskinned', 'used', 'rock', 'raisiny', 'plummy', 'nebbiolo', 'italian', 'hit', 'grand', 'aromatically', '80', 'version', 'oil', 'notions', 'create', 'maturity', 'lemons', 'healthy', 'edgy', 'built', 'backdrop', 'superripe', 'sites', 'promises', 'probably', 'offset', 'added', 'weighty', 'use', 'nervy', 'massive', 'kick', 'fruitforward', 'crunchy', 'coast', 'amounts', '2–3', 'preserves', 'precise', 'poised', 'maple', 'lithe', 'energy', 'dust', 'cooked', 'chicken', 'zippy', 'soy', 'sonoma', 'scorched', 'rosemary', 'reserved', 'place', 'organically', 'mediumweight', 'lemongrass', 'grigio', 'gold', 'flashy', 'exuberant', 'estategrown', 'compote', 'bubbles', 'box', 'american', 'underripe', 'traditional', 'suggestion', 'pinots', 'middle', 'follow', 'blackplum', 'beer', 'area', 'sémillon', 'remaining', 'put', 'potent', 'overtones', 'luminous', 'lamb', 'grace', 'gently', 'flinty', 'filled', 'county', 'completely', 'brightness', 'shines', 'scratchy', 'scent', 'rocks', 'produce', 'powder', 'mushrooms', 'juiciness', 'ideal', 'held', 'every', 'enhanced', 'creaminess', 'brut', 'blast', 'acacia', '2008', 'world', 'punch', 'providing', 'north', 'maybe', 'guava', '2013', 'verve', 'promising', 'heavily', 'foodfriendly', 'done', 'almonds', '8', 'unfold', 'stunning', 'perlage', 'moist', 'heft', 'ends', 'carmenère', 'barbera', '2024', 'tree', 'supporting', 'sunny', 'riserva', 'garnacha', 'base', 'abundant', 'youth', 'toffee', 'retains', 'marmalade', 'initial', 'creek', 'charm', 'attractively', 'winemaking', 'shot', 'raisins', 'package', 'home', 'fruitdriven', 'ever', 'enjoyment', 'dimension', 'choppy', 'air', 'abound', 'waft', 'turned', 'sure', 'streamlined', 'starting', 'pronounced', 'juniper', 'impressively', 'having', 'decanting', 'darkfruit', 'crust', 'barely', 'airing', '2005', 'sturdy', 'spent', 'packs', 'kind', 'integrate', 'immediate', 'filling', 'exceptional', 'entry', 'darker', 'custard', '4', 'simply', 'molasses', 'iris', 'defined', 'colored', 'clear', 'attention', 'animal', 'allowing', 'aggressive', 'watermelon', 'washington', 'upon', 'softer', 'property', 'luxurious', 'hinting', 'highly', 'follows', 'extreme', 'cooking', 'bottlings', 'settle', 'roundness', 'petrol', 'enjoyed', 'delivering', 'composed', 'case', 'addition', '3–4', 'wellmade', 'tarry', 'qualities', 'powerfully', 'popcorn', 'hill', 'grainy', 'exhibits', 'brioche', '3', 'underneath', 'rugged', 'owned', 'native', 'mulberry', 'decadent', 'block', 'atop', '14', 'welcome', 'rhône', 'regular', 'now–2020', 'means', 'granite', 'fish', 'crafted', 'cracked', 'chardonnays', 'russian', 'redcurrant', 'redcherry', 'oranges', 'onedimensional', 'gamy', 'bonedry', 'beginning', 'voluptuous', 'terrific', 'seafood', 'particularly', 'douro', 'cutting', 'component', 'brûlée', 'beauty', 'superb', 'saline', 'pop', 'distinct', 'develops', 'couple', 'classy', 'cinsault', 'bittersweet', 'runs', 'organic', 'nonetheless', 'incredibly', 'finished', 'begins', '2', 'south', 'soils', 'softened', 'soda', 'rioja', 'presence', 'marzipan', 'lightness', 'lifts', 'found', 'extraction', 'essence', 'delightful', 'crisply', 'blackened', 'accompanied', 'spanish', 'quaffable', 'paso', 'moment', 'loamy', 'informal', 'fudge', 'fans', 'fact', 'darkskinned', 'chamomile', 'brilliant', 'barnyard', 'appearance', 'apparent', 'woodland', 'wave', 'toastiness', 'terroir', 'sagebrush', 'refreshingly', 'key', 'grapy', 'combining', 'characterize', 'bursts', 'botrytis', 'amarone', 'walla', 'unctuous', 'textbook', 'prosecco', 'outstanding', 'oakdriven', 'instead', 'helps', 'funk', 'fascinating', 'complexities', 'coating', 'cheeses', 'array', 'water', 'versatile', 'velvet', 'strength', 'stays', 'since', 'seamless', 'ride', 'restraint', 'redolent', 'job', 'gewürztraminer', 'evolve', 'dusting', 'driven', 'dash', 'woodspice', 'tasted', 'smoothly', 'see', 'saucy', 'rooty', 'morello', 'mandarin', 'look', 'lipsmacking', 'leesy', 'hibiscus', 'ending', 'eight', 'drive', '6–8', '4–5', '2006', 'whose', 'walnut', 'viscous', 'ultimately', 'thoroughly', 'special', 'revealing', 'remain', 'punchy', 'proper', 'peachy', 'large', 'gravel', 'generously', 'contrast', 'clones', 'clone', 'characteristic', 'buy', '35', 'works', 'priced', 'noticeable', 'framing', 'fore', 'bark', 'unwind', 'unusually', 'sipper', 'limited', 'lacking', 'imported', 'fleeting', 'difficult', 'blending', 'rise', 'potpourri', 'muted', 'manages', 'lavish', 'fair', 'dramatic', 'di', 'chenin', 'carob', 'bubbly', 'blocky', 'ager', 'warmer', 'tonic', 'spiciness', 'shavings', 'shadings', 'saffron', 'road', 'produces', 'olives', 'melted', 'love', 'conveys', 'cold', 'cloying', 'carignan', 'approach', 'appears', '2030', 'swathes', 'scented', 'ruby', 'premier', 'main', 'extended', 'enormously', 'consistent', 'choice', 'certain', 'ages', 'wiry', 'vine', 'super', 'seven', 'refreshment', 'quick', 'precision', 'oxidized', 'longterm', 'expensive', 'evolved', 'estates', 'detailed', 'clay', 'burgundy', '9', 'surrounded', 'state', 'sprightly', 'signs', 'serve', 'results', 'parcel', 'mind', 'grüner', 'flush', 'famous', 'drier', 'dinner', 'chianti', 'blancs', 'affordable', '75', '6', '16', '13', 'utterly', 'sumptuous', 'stemmy', 'roses', 'roast', 'pollen', 'loam', 'gripping', 'field', 'day', 'aspect', 'tad', 'swirl', 'suggestions', 'sort', 'sizable', 'sipped', 'signals', 'semisweet', 'secondary', 'room', 'resulting', 'reds', 'narrow', 'layering', 'knit', 'honeycomb', 'feet', 'creates', 'cranberries', 'compost', 'class', 'brightens', 'bolstered', 'barrelfermented', 'absolutely', 'woven', 'vineyarddesignate', 'spritzy', 'showcases', 'sets', 'polish', 'poise', 'opulence', 'malvasia', 'majority', 'lightfooted', 'indian', 'historic', 'harmony', 'expansive', 'ethereal', 'deliciousness', 'davola', 'curd', 'village', 'tannat', 'sultry', 'sensation', 'salmon', 'rocky', 'now–2015', 'dilute', 'cracker', 'coat', 'closegrained', 'cantaloupe', 'beeswax', 'yielding', 'wraps', 'twist', 'stewy', 'stem', 'puts', 'proving', 'proportion', 'moreish', 'longlasting', 'irresistible', 'farmed', 'exciting', 'delicacy', 'angular', 'styled', 'stiff', 'stands', 'solidly', 'series', 'later', 'highlighted', 'fills', 'exquisite', 'eventually', 'dr', 'companion', 'buoyant', 'alicante', '90', 'wont', 'wealth', 'using', 'unoaked', 'tremendous', 'splash', 'project', 'port', 'picture', 'peels', 'peak', 'mouthful', 'meets', 'marsanne', 'local', 'labeled', 'impresses', 'hours', 'holding', 'highlight', 'hickory', 'hefty', 'fade', 'enormous', 'charming', 'capture', 'amidst', 'again', '85', 'zingy', 'whitefruit', 'tuscan', 'sb', 'reduction', 'reduced', 'piercing', 'parcels', 'palates', 'needing', 'kept', 'invigorating', 'house', 'display', 'complement', 'brine', 'actually', '7', 'thing', 'sources', 'popular', 'paste', 'mixes', 'marshmallow', 'intrigue', 'incense', 'got', 'gorgeously', 'generosity', 'exceptionally', 'energetic', 'effect', 'dominating', 'detail', 'classico', 'chilean', 'call', 'brand', 'becomes', 'balsam', 'ahead', '5–6', '5050', 'varietys', 'think', 'surprising', 'surprise', 'straight', 'steady', 'sprinkled', 'smith', 'smaller', 'mouthcoating', 'mirabelle', 'maintains', 'lack', 'graceful', 'deeper', 'common', '24', '17', 'youthfully', 'vinho', 'sweetly', 'spectrum', 'obvious', 'lick', 'jelly', 'had', 'grounds', 'gain', 'frothy', 'flamboyant', 'fades', 'contains', 'cedary', 'bartlett', '11', 'vibrancy', 'verde', 'stuff', 'spritz', 'snap', 'seamlessly', 'reasonably', 'ranch', 'properly', 'pick', 'masculine', 'lusty', 'immense', 'fantastic', 'deliver', 'buoyed', 'anything', 'ageability', 'success', 'spot', 'source', 'smoothness', 'say', 'sappy', 'sanguine', 'running', 'powdered', 'please', 'pizza', 'pit', 'lusciously', 'lightweight', 'jumpy', 'hedonistic', 'gracefully', 'exuberance', 'du', 'definition', 'clearly', 'classically', 'zestiness', 'wash', 'usual', 'unripe', 'typically', 'tons', 'seemingly', 'reflects', 'overdone', 'malolactic', 'harsh', 'garrigue', 'entrylevel', 'developed', 'damp', 'course', 'cooler', 'climate', 'brimming', 'alpine', '45', 'why', 'wax', 'towards', 'sweeter', 'spry', 'size', 'salad', 'peppercorns', 'now–2016', 'lineup', 'lilac', 'lactic', 'kabinett', 'hue', 'highacid', 'growing', 'flood', 'date', 'check', 'cabs', 'bland', 'subtlety', 'seasoned', 'quaffer', 'prunes', 'prior', 'prime', 'persistence', 'persist', 'older', 'number', 'introduce', 'important', 'explosive', 'explodes', 'edged', 'eastern', 'definite', 'contribute', 'captures', 'burly', 'begin', 'winemakers', 'widely', 'watery']\n"
          ]
        }
      ]
    },
    {
      "cell_type": "code",
      "source": [
        "model = tf.keras.Sequential([\n",
        "    encoder,\n",
        "    tf.keras.layers.Embedding(\n",
        "        input_dim = len(vocab),\n",
        "        output_dim = 32,\n",
        "        mask_zero=True\n",
        "    ),\n",
        "    tf.keras.layers.LSTM(32),\n",
        "    tf.keras.layers.Dense(32),\n",
        "    tf.keras.layers.Dropout(0.4),\n",
        "    tf.keras.layers.Dense(1, activation= 'sigmoid')\n",
        "])"
      ],
      "metadata": {
        "id": "2plBvHNZoFr5"
      },
      "execution_count": 95,
      "outputs": []
    },
    {
      "cell_type": "code",
      "source": [
        "model.compile(\n",
        "    optimizer=tf.keras.optimizers.Adam(learning_rate=0.0005),\n",
        "    loss=tf.keras.losses.BinaryCrossentropy(),\n",
        "    metrics=['accuracy']\n",
        ")"
      ],
      "metadata": {
        "id": "vgb6qTFQoH7s"
      },
      "execution_count": 96,
      "outputs": []
    },
    {
      "cell_type": "code",
      "source": [
        "model.evaluate(train_data)\n",
        "model.evaluate(val_data)"
      ],
      "metadata": {
        "colab": {
          "base_uri": "https://localhost:8080/"
        },
        "id": "sg3dmbaqqaOw",
        "outputId": "0262d9d6-b044-40f9-af80-a766b0c6ae46"
      },
      "execution_count": 98,
      "outputs": [
        {
          "output_type": "stream",
          "name": "stdout",
          "text": [
            "32/32 [==============================] - 8s 232ms/step - loss: 0.6931 - accuracy: 0.5053\n",
            "13/13 [==============================] - 2s 176ms/step - loss: 0.6931 - accuracy: 0.5092\n"
          ]
        },
        {
          "output_type": "execute_result",
          "data": {
            "text/plain": [
              "[0.6930749416351318, 0.5091906189918518]"
            ]
          },
          "metadata": {},
          "execution_count": 98
        }
      ]
    },
    {
      "cell_type": "code",
      "source": [
        "history = model.fit(train_data, epochs = 5, validation_data = val_data)"
      ],
      "metadata": {
        "colab": {
          "base_uri": "https://localhost:8080/"
        },
        "id": "zt3biBSmqXId",
        "outputId": "f6172c2e-85f3-4fb4-b299-56b33f0b1f62"
      },
      "execution_count": 99,
      "outputs": [
        {
          "output_type": "stream",
          "name": "stdout",
          "text": [
            "Epoch 1/5\n",
            "32/32 [==============================] - 27s 616ms/step - loss: 0.6890 - accuracy: 0.5963 - val_loss: 0.6783 - val_accuracy: 0.6691\n",
            "Epoch 2/5\n",
            "32/32 [==============================] - 19s 588ms/step - loss: 0.6009 - accuracy: 0.7171 - val_loss: 0.5029 - val_accuracy: 0.7606\n",
            "Epoch 3/5\n",
            "32/32 [==============================] - 16s 512ms/step - loss: 0.4481 - accuracy: 0.7976 - val_loss: 0.4240 - val_accuracy: 0.8043\n",
            "Epoch 4/5\n",
            "32/32 [==============================] - 16s 502ms/step - loss: 0.3884 - accuracy: 0.8270 - val_loss: 0.3954 - val_accuracy: 0.8167\n",
            "Epoch 5/5\n",
            "32/32 [==============================] - 17s 530ms/step - loss: 0.3611 - accuracy: 0.8403 - val_loss: 0.3856 - val_accuracy: 0.8229\n"
          ]
        }
      ]
    },
    {
      "cell_type": "code",
      "source": [
        "model.evaluate(test_data)"
      ],
      "metadata": {
        "colab": {
          "base_uri": "https://localhost:8080/"
        },
        "id": "2lvSNHg0qotR",
        "outputId": "a4071e1c-9b78-464d-ab8a-0ab71e43251a"
      },
      "execution_count": 100,
      "outputs": [
        {
          "output_type": "stream",
          "name": "stdout",
          "text": [
            "114/114 [==============================] - 21s 179ms/step - loss: 0.3805 - accuracy: 0.8258\n"
          ]
        },
        {
          "output_type": "execute_result",
          "data": {
            "text/plain": [
              "[0.38049790263175964, 0.8258104920387268]"
            ]
          },
          "metadata": {},
          "execution_count": 100
        }
      ]
    },
    {
      "cell_type": "code",
      "source": [
        "plt.plot(history.history['loss'], color=\"blue\", label=\"Traning loss\")\n",
        "plt.plot(history.history['val_loss'], color=\"yellow\", label=\"Validation loss\")\n",
        "plt.title(\"Loss of the model\")\n",
        "plt.ylabel(\"Loss\")\n",
        "plt.xlabel(\"Epoch\")\n",
        "plt.legend()\n",
        "plt.show()"
      ],
      "metadata": {
        "colab": {
          "base_uri": "https://localhost:8080/",
          "height": 472
        },
        "id": "Bazq03x7qrT9",
        "outputId": "a07d29b1-2a30-4e99-b96d-0e772f1f83ab"
      },
      "execution_count": 101,
      "outputs": [
        {
          "output_type": "display_data",
          "data": {
            "text/plain": [
              "<Figure size 640x480 with 1 Axes>"
            ],
            "image/png": "[encoded data removed]"
          },
          "metadata": {}
        }
      ]
    },
    {
      "cell_type": "code",
      "source": [],
      "metadata": {
        "id": "qr7OTQRtrM3f"
      },
      "execution_count": null,
      "outputs": []
    }
  ]
}